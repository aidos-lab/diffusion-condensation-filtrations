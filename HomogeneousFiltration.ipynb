{
 "cells": [
  {
   "cell_type": "code",
   "execution_count": null,
   "id": "c214e898",
   "metadata": {},
   "outputs": [],
   "source": [
    "# Import Modules\n",
    "import numpy as np\n",
    "import pandas as pd\n",
    "import scipy as sp\n",
    "import dionysus as d\n",
    "import matplotlib.pyplot as plt\n",
    "#import pecan as pc\n",
    "import sys\n",
    "#from __future__ import print_function\n",
    "from ipywidgets import interact, interactive, fixed, interact_manual\n",
    "import ipywidgets as widgets\n",
    "from sklearn.metrics.pairwise import euclidean_distances\n",
    "import networkx as nx\n",
    "import matplotlib.pyplot as plt\n",
    "import argparse\n",
    "import matplotlib.collections\n",
    "import matplotlib.lines\n",
    "import matplotlib.animation as animation\n",
    "import gudhi as gd  \n",
    "import collections\n",
    "import sys \n",
    "import os\n",
    "import re\n",
    "#sys.path.append(os.path.abspath(\"\"))\n",
    "from basic_functions import *\n",
    "from visualizations import *\n",
    "from HomogeneousFiltration import *\n",
    "from InhomogeneousFiltration import *"
   ]
  },
  {
   "cell_type": "markdown",
   "id": "5390e559",
   "metadata": {},
   "source": [
    "## Load data"
   ]
  },
  {
   "cell_type": "markdown",
   "id": "e14bfbfd",
   "metadata": {},
   "source": [
    "Run Diffusion Condensation with kernel bandwith *e* on your dataset using the PECAN implementation (https://github.com/KrishnaswamyLab/PECAN) and store the resulting .npz file with name *experiment_name* under the path *experiment_path*. \n",
    "\n",
    "Load the .npz file and the kernel bandwith *e* used for the condensation (you could also choose a bandwith for the topological data analysis which differs from the diffusion bandwith).\n",
    "\n",
    "There are several kernel options for DC listed in chapter 2.5. Kernels for di usion condensation of the paper Time-inhomogeneous diffusion geometry and topology. In this implemantation we can choose between the Gaussian kernel (Def. 2.3) and the anisotropic density normalized Gaussian kernel (Def. 2.5). Other kernels are possible and must be defined in the *basic_functions.py* file. "
   ]
  },
  {
   "cell_type": "code",
   "execution_count": null,
   "id": "a4210fa7",
   "metadata": {},
   "outputs": [],
   "source": [
    "experiment_name='petals_128'  # str: name of the .npz file\n",
    "experiment_path='data/'       # str: directory path of the .npz file\n",
    "e= 0.1094                     # int: kernel bandwidth\n",
    "\n",
    "kernel='gaussian_aniso'       # 'gaussian' / 'gaussian_aniso':  'gaussian' - ordinary Gaussain kernel with bandwidth e acc. Def. 2.3 in the paper;  'gaussian_aniso'- density normalized Gaussain kernel with factor b acc. Def. 2.5 in paper\n",
    "b=1                           # int: normalization factor b for density normalized kernel acc. Def. 2.5 in paper\n"
   ]
  },
  {
   "cell_type": "markdown",
   "id": "fa2840dc",
   "metadata": {},
   "source": [
    "#### Select mode"
   ]
  },
  {
   "cell_type": "markdown",
   "id": "502c7256",
   "metadata": {},
   "source": [
    "One can choose between two modes to calculate the edge weights, a resting and a non-resting random walk."
   ]
  },
  {
   "cell_type": "code",
   "execution_count": null,
   "id": "1ca46f3f",
   "metadata": {},
   "outputs": [],
   "source": [
    "mode='resting'            # 'resting' / 'non_resting':  'resting' - random walk from datapoint i to datapoint i allowed (lazy ) ; 'non_resting' - random walk from datapoint i to datapoint i not allowed (non-lazy )"
   ]
  },
  {
   "cell_type": "markdown",
   "id": "6b432f5a",
   "metadata": {},
   "source": [
    "# Mono-filtration over power of τ at fix weight"
   ]
  },
  {
   "cell_type": "markdown",
   "id": "3a4186b6",
   "metadata": {},
   "source": [
    "In this mode we perform a simple mono-filtration over the power τ of the diffusion operator at a fix edge weight."
   ]
  },
  {
   "cell_type": "markdown",
   "id": "ffa4cec7",
   "metadata": {},
   "source": [
    "### Initialize"
   ]
  },
  {
   "cell_type": "markdown",
   "id": "af31c3f7",
   "metadata": {},
   "source": [
    "Choose the diffusion time step *t* at which to perform the random walk and the maximum τ (end of filtration). One can choose between a time-homogeneous and a time-inhomogeneous random walk. For the time-homogeneous we simply take the diffusion operator at diffusion time step *t* to the power of τ. For the time-inhomogeneous we compute the product of subsequential diffusion time steps as defined in 2.1."
   ]
  },
  {
   "cell_type": "code",
   "execution_count": null,
   "id": "021a8273",
   "metadata": {},
   "outputs": [],
   "source": [
    "t=0                        # int: diffusion time step t \n",
    "tau_max=25                 # int: maximum power of tau - filtration from 0 ≤ tau ≤ tau_max\n",
    "version='homogeneous'      # 'homogeneous' or 'inhomogeneous'"
   ]
  },
  {
   "cell_type": "code",
   "execution_count": null,
   "id": "7620dd1f",
   "metadata": {},
   "outputs": [],
   "source": [
    "if version=='homogeneous' :\n",
    "    PowerFiltration=OperatorPowerFiltrationHomogeneous(experiment_path,experiment_name,mode,kernel,e,b,t)\n",
    "if version=='inhomogeneous' :\n",
    "    PowerFiltration=OperatorPowerFiltrationInhomogeneous(experiment_path,experiment_name,mode,kernel,e,b,t)"
   ]
  },
  {
   "cell_type": "markdown",
   "id": "897e0af6",
   "metadata": {},
   "source": [
    "### Weights"
   ]
  },
  {
   "cell_type": "markdown",
   "id": "fe07c320",
   "metadata": {},
   "source": [
    "Each of the NC2 edges in the fully connected graph is assigned an edge weight according to the elements of the diffusion matrix to the power of τ. Edge weights are mean of both corresponding elements of P_t^tau: 0.5*(P_t[i][j]+P_t[j][i])"
   ]
  },
  {
   "cell_type": "code",
   "execution_count": null,
   "id": "02412ed7",
   "metadata": {},
   "outputs": [],
   "source": [
    "\"\"\" Compute all edge weights \"\"\"\n",
    "\n",
    "EdgeWeights_=PowerFiltration.compute_edge_weights(tau_max)"
   ]
  },
  {
   "cell_type": "code",
   "execution_count": null,
   "id": "047d27af",
   "metadata": {
    "scrolled": false
   },
   "outputs": [],
   "source": [
    "\"\"\" Visualization of edge weights \"\"\"\n",
    "\n",
    "\" parameters\"\n",
    "EdgeWeights=EdgeWeights_            # Edge weights to be visualized\n",
    "plot_weight_thresholds=None         # None or List of floats for horizontal lines in the plot\n",
    "scale_='linear'                     # scale of the y-axis: 'linear' or 'log'\n",
    "save_=True                          # save plot: True or False\n",
    "save_path='results/plots'           # path to saved plot (subdirectories will be created automatically)\n",
    "\n",
    "plot_weights_during_filtration(EdgeWeights,experiment_name,e,b,kernel,mode,version,t,W_2=None,W_3=None,scale=scale_,thresholds=plot_weight_thresholds,save=save_,save_path=save_path,label_1='',label_2='',label_3='')"
   ]
  },
  {
   "cell_type": "code",
   "execution_count": null,
   "id": "2e4b0bfe",
   "metadata": {
    "scrolled": true
   },
   "outputs": [],
   "source": [
    "\"\"\" Filtration \"\"\"\n",
    "\n",
    "\" parameters\"\n",
    "tau_max=6              # int: maximum power of tau - filtration from 0 ≤ tau ≤ tau_max\n",
    "weight_threshold=0.045  # float: weight threshold for the filtration\n",
    "dist_threshold=1e-3     # float: two points which are closer than dist_threshold are merged if merge==True\n",
    "merge=False              # True or False: two points which are closer than dist_threshold are merged if merge==True\n",
    "max_dimension=2         # int: maximal dimension simplex\n",
    "plot_embedding='fix'    # 'fix' or 'var': Plot embedding of simplicial complex at fix t=0 or variable at different diffusion times\n",
    "show_fig_=True          # True or False: If True, show figures in Notebook\n",
    "save_fig_=True          # True or False: If True, save figures under save_path\n",
    "save_path='results/plots'  #/simplicial_complex' \n",
    "\n",
    "betti_tensor, simplices_tensor,BarCodes=PowerFiltration.compute_filtration(weight_threshold,dist_threshold,tau_max, max_dimension,plot_embedding,merge,show_fig=show_fig_,save_fig=save_fig_,save_path=save_path)\n"
   ]
  },
  {
   "cell_type": "code",
   "execution_count": null,
   "id": "d83e4b43",
   "metadata": {},
   "outputs": [],
   "source": [
    "save_path='results/plots'\n",
    "\n",
    "PowerFiltration.plot_betti(betti_tensor,merge,weight_threshold,dist_threshold,scale='linear',show_fig=True,save_fig=True,save_path=save_path)"
   ]
  },
  {
   "cell_type": "code",
   "execution_count": null,
   "id": "b9f1e489",
   "metadata": {},
   "outputs": [],
   "source": [
    "save_path='results/plots'\n",
    "\n",
    "PowerFiltration.plot_num_simplices(simplices_tensor,merge,weight_threshold,dist_threshold,scale='linear',show_fig=True,save_fig=True,save_path=save_path)"
   ]
  },
  {
   "cell_type": "code",
   "execution_count": null,
   "id": "05c4f062",
   "metadata": {},
   "outputs": [],
   "source": [
    "save_path='results/plots'\n",
    "\n",
    "persistence(BarCodes,experiment_name,e,b,t,kernel,mode,version,merge,dist_threshold,weight_threshold,save_path,save=True)"
   ]
  },
  {
   "cell_type": "markdown",
   "id": "6ae0fcd7",
   "metadata": {},
   "source": [
    "# Bifiltration"
   ]
  },
  {
   "cell_type": "code",
   "execution_count": null,
   "id": "62d79c44",
   "metadata": {
    "scrolled": true
   },
   "outputs": [],
   "source": [
    "\"\"\" Bifiltration over tau and weight threshold \"\"\"\n",
    "\n",
    "\" parameters\"\n",
    "weight_threshold_steps=np.array([0.05,0.045,0.04,0.035,0.03,0.025,0.02,0.015]) # list of float: filtration steps over weight  weight_threshold_steps=np.array([0.07,0.0675,0.065,0.0625,0.06,0.0575,0.055,0.0525,0.05,0.0475 ,0.045,0.0425,0.04,0.0375,0.035,0.0325,0.03,0.0275,0.025,0.0225,0.02,0.0175,0.015,0.0125,0.01,0.0075])  #\n",
    "tau_max=20              # int: filtration steps over tau - filtration from 0 ≤ tau ≤ tau_max\n",
    "dist_threshold=1e-3     # float: two points which are closer than dist_threshold are merged if merge==True\n",
    "merge=True              # True or False: two points which are closer than dist_threshold are merged if merge==True\n",
    "max_dimension=2         # int: maximal dimension simplex\n",
    "plot_embedding='var'    # 'fix' or 'var': Plot embedding of simplicial complex at fix t=0 or variable at different diffusion times\n",
    "show_fig_=False          # True or False: If True, show figures in Notebook\n",
    "save_fig_=False          # True or False: If True, save figures under save_path\n",
    "save_path='results/plots'  #/simplicial_complex' \n",
    "\n",
    "\n",
    "\n",
    "betti_tensor_filtration=np.zeros((len(weight_threshold_steps),tau_max,3))\n",
    "simplices_tensor_filtration=np.zeros((len(weight_threshold_steps),tau_max,3))\n",
    "BarCodes_tensor=[]\n",
    "for z in range(0,len(weight_threshold_steps)):\n",
    "    weight_threshold=weight_threshold_steps[z]\n",
    "    print(weight_threshold)\n",
    "    betti_tensor, simplices_tensor,BarCodes=PowerFiltration.compute_filtration(weight_threshold,dist_threshold,tau_max, max_dimension,plot_embedding,merge,show_fig=show_fig_,save_fig=save_fig_,save_path=save_path)\n",
    "    simplices_tensor_filtration[z]=simplices_tensor\n",
    "    betti_tensor_filtration[z]=betti_tensor\n",
    "    BarCodes_tensor.append(BarCodes)\n",
    "    print()"
   ]
  },
  {
   "cell_type": "code",
   "execution_count": null,
   "id": "0a829277",
   "metadata": {
    "scrolled": false
   },
   "outputs": [],
   "source": [
    "w_min=np.min(weight_threshold_steps)\n",
    "w_max=np.max(weight_threshold_steps)\n",
    "\n",
    "save_path='results/plots'  #/simplicial_complex'\n",
    "save_fig=True\n",
    "\n",
    "bifiltration_plot_betti(betti_tensor_filtration,w_min,w_max,version,experiment_name,e,b,t,kernel,mode,weight_threshold_steps,merge,dist_threshold,save_fig,save_path)\n"
   ]
  },
  {
   "cell_type": "code",
   "execution_count": null,
   "id": "5c0413ea",
   "metadata": {},
   "outputs": [],
   "source": [
    "w_min=np.min(weight_threshold_steps)\n",
    "w_max=np.max(weight_threshold_steps)\n",
    "\n",
    "save_path='results/plots'\n",
    "\n",
    "bifiltration_plot_simplices(betti_tensor_filtration,w_min,w_max,version,experiment_name,e,b,t,kernel,mode,weight_threshold_steps,merge,dist_threshold,save_fig,save_path)"
   ]
  },
  {
   "cell_type": "code",
   "execution_count": null,
   "id": "e215ce7e",
   "metadata": {},
   "outputs": [],
   "source": [
    "save_path='results/plots'\n",
    "for u in range(0,len(BarCodes_tensor)):\n",
    "    print(r'$p_{max}=$',weight_threshold_steps[u])\n",
    "    BarCodes_=BarCodes_tensor[u]\n",
    "    persistence(BarCodes_,experiment_name,e,b,t,kernel,mode,version,merge,dist_threshold,weight_threshold,save_path,save=True)\n"
   ]
  },
  {
   "cell_type": "code",
   "execution_count": null,
   "id": "eb247558",
   "metadata": {},
   "outputs": [],
   "source": []
  }
 ],
 "metadata": {
  "kernelspec": {
   "display_name": "Python 3 (ipykernel)",
   "language": "python",
   "name": "python3"
  },
  "language_info": {
   "codemirror_mode": {
    "name": "ipython",
    "version": 3
   },
   "file_extension": ".py",
   "mimetype": "text/x-python",
   "name": "python",
   "nbconvert_exporter": "python",
   "pygments_lexer": "ipython3",
   "version": "3.8.12"
  }
 },
 "nbformat": 4,
 "nbformat_minor": 5
}
