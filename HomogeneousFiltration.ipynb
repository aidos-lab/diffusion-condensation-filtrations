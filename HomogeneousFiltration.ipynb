{
 "cells": [
  {
   "cell_type": "code",
   "execution_count": 1,
   "id": "c214e898",
   "metadata": {},
   "outputs": [
    {
     "name": "stderr",
     "output_type": "stream",
     "text": [
      "<frozen importlib._bootstrap>:219: RuntimeWarning: scipy._lib.messagestream.MessageStream size changed, may indicate binary incompatibility. Expected 56 from C header, got 64 from PyObject\n"
     ]
    }
   ],
   "source": [
    "# Import Modules\n",
    "import numpy as np\n",
    "import pandas as pd\n",
    "import scipy as sp\n",
    "import dionysus as d\n",
    "import matplotlib.pyplot as plt\n",
    "import pecan as pc\n",
    "import sys\n",
    "#from __future__ import print_function\n",
    "from ipywidgets import interact, interactive, fixed, interact_manual\n",
    "import ipywidgets as widgets\n",
    "from sklearn.metrics.pairwise import euclidean_distances\n",
    "import networkx as nx\n",
    "import matplotlib.pyplot as plt\n",
    "import argparse\n",
    "import matplotlib.collections\n",
    "import matplotlib.lines\n",
    "import matplotlib.animation as animation\n",
    "import gudhi as gd  \n",
    "import collections\n",
    "import sys \n",
    "import os\n",
    "import re\n",
    "#sys.path.append(os.path.abspath(\"\"))\n",
    "from basic_functions import *\n",
    "from visualizations import *\n",
    "from HomogeneousFiltration import *\n",
    "from InhomogeneousFiltration import *"
   ]
  },
  {
   "cell_type": "markdown",
   "id": "5390e559",
   "metadata": {},
   "source": [
    "### Load data"
   ]
  },
  {
   "cell_type": "markdown",
   "id": "95792542",
   "metadata": {},
   "source": [
    "###### double_annulus"
   ]
  },
  {
   "cell_type": "code",
   "execution_count": 2,
   "id": "97aecac8",
   "metadata": {},
   "outputs": [],
   "source": [
    "experiment_name='double_annulus_128'\n",
    "experiment_path='data/'\n",
    "e= 0.0089   "
   ]
  },
  {
   "cell_type": "markdown",
   "id": "bab21fad",
   "metadata": {},
   "source": [
    "###### petals"
   ]
  },
  {
   "cell_type": "code",
   "execution_count": 3,
   "id": "a4210fa7",
   "metadata": {},
   "outputs": [],
   "source": [
    "experiment_name='petals_128'\n",
    "experiment_path='data/'\n",
    "e= 0.1094   "
   ]
  },
  {
   "cell_type": "markdown",
   "id": "14db44c4",
   "metadata": {},
   "source": [
    "###### rings"
   ]
  },
  {
   "cell_type": "code",
   "execution_count": null,
   "id": "44fe4559",
   "metadata": {},
   "outputs": [],
   "source": [
    "experiment_name='rings_1_07_003'\n",
    "experiment_path='data/'\n",
    "e= 0.0999   "
   ]
  },
  {
   "cell_type": "code",
   "execution_count": null,
   "id": "682fbfe9",
   "metadata": {},
   "outputs": [],
   "source": [
    "experiment_name='rings_1_025_002_08'\n",
    "experiment_path='data/'\n",
    "e= 0.0958   "
   ]
  },
  {
   "cell_type": "markdown",
   "id": "4b9e83fd",
   "metadata": {},
   "source": [
    "###### connected rings"
   ]
  },
  {
   "cell_type": "code",
   "execution_count": null,
   "id": "dccb068d",
   "metadata": {},
   "outputs": [],
   "source": [
    "n_samples=100\n",
    "n_connections=0\n",
    "n_per_connection=10\n",
    "\n",
    "experiment_name='connected_2_rings_'+str(n_samples)+'_'+str(n_connections)+'_'+str(n_per_connection)\n",
    "experiment_path='data/'\n",
    "\n",
    "e=0.1316"
   ]
  },
  {
   "cell_type": "code",
   "execution_count": null,
   "id": "f4c5f6e2",
   "metadata": {},
   "outputs": [],
   "source": [
    "n_samples=100\n",
    "n_connections=3\n",
    "n_per_connection=10\n",
    "\n",
    "experiment_name='connected_2_rings_'+str(n_samples)+'_'+str(n_connections)+'_'+str(n_per_connection)\n",
    "experiment_path='data/'\n",
    "\n",
    "e=0.0859"
   ]
  },
  {
   "cell_type": "code",
   "execution_count": null,
   "id": "832561e2",
   "metadata": {},
   "outputs": [],
   "source": [
    "n_samples=100\n",
    "n_connections=3\n",
    "n_per_connection=20\n",
    "\n",
    "experiment_name='connected_2_rings_'+str(n_samples)+'_'+str(n_connections)+'_'+str(n_per_connection)+'_'\n",
    "experiment_path='data/'\n",
    "\n",
    "e=0.0637"
   ]
  },
  {
   "cell_type": "markdown",
   "id": "fa2840dc",
   "metadata": {},
   "source": [
    "#### Select mode"
   ]
  },
  {
   "cell_type": "code",
   "execution_count": 4,
   "id": "1ca46f3f",
   "metadata": {},
   "outputs": [],
   "source": [
    "kernel='gaussian_aniso'\n",
    "mode='resting'\n",
    "b=1   "
   ]
  },
  {
   "cell_type": "markdown",
   "id": "6b432f5a",
   "metadata": {},
   "source": [
    "# Mono-filtration over power of τ at fix weight"
   ]
  },
  {
   "cell_type": "markdown",
   "id": "ffa4cec7",
   "metadata": {},
   "source": [
    "### Initialize"
   ]
  },
  {
   "cell_type": "code",
   "execution_count": 5,
   "id": "021a8273",
   "metadata": {},
   "outputs": [],
   "source": [
    "t=0                        # int: diffusion time step t \n",
    "tau_max=25                 # int: maximum power of tau - filtration from 0 ≤ tau ≤ tau_max\n",
    "version='inhomogeneous'      # 'homogeneous' or 'inhomogeneous'"
   ]
  },
  {
   "cell_type": "code",
   "execution_count": 6,
   "id": "7620dd1f",
   "metadata": {},
   "outputs": [],
   "source": [
    "if version=='homogeneous' :\n",
    "    PowerFiltration=OperatorPowerFiltrationHomogeneous(experiment_path,experiment_name,mode,kernel,e,b,t)\n",
    "if version=='inhomogeneous' :\n",
    "    PowerFiltration=OperatorPowerFiltrationInhomogeneous(experiment_path,experiment_name,mode,kernel,e,b,t)"
   ]
  },
  {
   "cell_type": "markdown",
   "id": "897e0af6",
   "metadata": {},
   "source": [
    "### Weights"
   ]
  },
  {
   "cell_type": "code",
   "execution_count": 7,
   "id": "02412ed7",
   "metadata": {},
   "outputs": [],
   "source": [
    "\"\"\" Compute all edge weights \"\"\"\n",
    "\n",
    "EdgeWeights_=PowerFiltration.compute_edge_weights(tau_max)"
   ]
  },
  {
   "cell_type": "code",
   "execution_count": 1,
   "id": "047d27af",
   "metadata": {
    "scrolled": false
   },
   "outputs": [
    {
     "ename": "NameError",
     "evalue": "name 'EdgeWeights_' is not defined",
     "output_type": "error",
     "traceback": [
      "\u001b[0;31m---------------------------------------------------------------------------\u001b[0m",
      "\u001b[0;31mNameError\u001b[0m                                 Traceback (most recent call last)",
      "\u001b[0;32m/tmp/ipykernel_3151272/1724333392.py\u001b[0m in \u001b[0;36m<module>\u001b[0;34m\u001b[0m\n\u001b[1;32m      2\u001b[0m \u001b[0;34m\u001b[0m\u001b[0m\n\u001b[1;32m      3\u001b[0m \u001b[0;34m\" parameters\"\u001b[0m\u001b[0;34m\u001b[0m\u001b[0;34m\u001b[0m\u001b[0m\n\u001b[0;32m----> 4\u001b[0;31m \u001b[0mEdgeWeights\u001b[0m\u001b[0;34m=\u001b[0m\u001b[0mEdgeWeights_\u001b[0m            \u001b[0;31m# Edge weights to be visualized\u001b[0m\u001b[0;34m\u001b[0m\u001b[0;34m\u001b[0m\u001b[0m\n\u001b[0m\u001b[1;32m      5\u001b[0m \u001b[0mplot_weight_thresholds\u001b[0m\u001b[0;34m=\u001b[0m\u001b[0;32mNone\u001b[0m         \u001b[0;31m# None or List of floats for horizontal lines in the plot\u001b[0m\u001b[0;34m\u001b[0m\u001b[0;34m\u001b[0m\u001b[0m\n\u001b[1;32m      6\u001b[0m \u001b[0mscale_\u001b[0m\u001b[0;34m=\u001b[0m\u001b[0;34m'linear'\u001b[0m                     \u001b[0;31m# scale of the y-axis: 'linear' or 'log'\u001b[0m\u001b[0;34m\u001b[0m\u001b[0;34m\u001b[0m\u001b[0m\n",
      "\u001b[0;31mNameError\u001b[0m: name 'EdgeWeights_' is not defined"
     ]
    }
   ],
   "source": [
    "\"\"\" Visualization of edge weights \"\"\"\n",
    "\n",
    "\" parameters\"\n",
    "EdgeWeights=EdgeWeights_            # Edge weights to be visualized\n",
    "plot_weight_thresholds=None         # None or List of floats for horizontal lines in the plot\n",
    "scale_='linear'                     # scale of the y-axis: 'linear' or 'log'\n",
    "save_=True                          # save plot: True or False\n",
    "save_path='results/plots'           # path to saved plot (subdirectories will be created automatically)\n",
    "\n",
    "plot_weights_during_filtration(EdgeWeights,experiment_name,e,b,kernel,mode,version,t,W_2=None,W_3=None,scale=scale_,thresholds=plot_weight_thresholds,save=save_,save_path=save_path,label_1='',label_2='',label_3='')"
   ]
  },
  {
   "cell_type": "code",
   "execution_count": 2,
   "id": "2e4b0bfe",
   "metadata": {
    "scrolled": true
   },
   "outputs": [
    {
     "ename": "NameError",
     "evalue": "name 'PowerFiltration' is not defined",
     "output_type": "error",
     "traceback": [
      "\u001b[0;31m---------------------------------------------------------------------------\u001b[0m",
      "\u001b[0;31mNameError\u001b[0m                                 Traceback (most recent call last)",
      "\u001b[0;32m/tmp/ipykernel_3151272/728901128.py\u001b[0m in \u001b[0;36m<module>\u001b[0;34m\u001b[0m\n\u001b[1;32m     12\u001b[0m \u001b[0msave_path\u001b[0m\u001b[0;34m=\u001b[0m\u001b[0;34m'results/plots'\u001b[0m  \u001b[0;31m#/simplicial_complex'\u001b[0m\u001b[0;34m\u001b[0m\u001b[0;34m\u001b[0m\u001b[0m\n\u001b[1;32m     13\u001b[0m \u001b[0;34m\u001b[0m\u001b[0m\n\u001b[0;32m---> 14\u001b[0;31m \u001b[0mbetti_tensor\u001b[0m\u001b[0;34m,\u001b[0m \u001b[0msimplices_tensor\u001b[0m\u001b[0;34m,\u001b[0m\u001b[0mBarCodes\u001b[0m\u001b[0;34m=\u001b[0m\u001b[0mPowerFiltration\u001b[0m\u001b[0;34m.\u001b[0m\u001b[0mcompute_filtration\u001b[0m\u001b[0;34m(\u001b[0m\u001b[0mweight_threshold\u001b[0m\u001b[0;34m,\u001b[0m\u001b[0mdist_threshold\u001b[0m\u001b[0;34m,\u001b[0m\u001b[0mtau_max\u001b[0m\u001b[0;34m,\u001b[0m \u001b[0mmax_dimension\u001b[0m\u001b[0;34m,\u001b[0m\u001b[0mplot_embedding\u001b[0m\u001b[0;34m,\u001b[0m\u001b[0mmerge\u001b[0m\u001b[0;34m,\u001b[0m\u001b[0mshow_fig\u001b[0m\u001b[0;34m=\u001b[0m\u001b[0mshow_fig_\u001b[0m\u001b[0;34m,\u001b[0m\u001b[0msave_fig\u001b[0m\u001b[0;34m=\u001b[0m\u001b[0msave_fig_\u001b[0m\u001b[0;34m,\u001b[0m\u001b[0msave_path\u001b[0m\u001b[0;34m=\u001b[0m\u001b[0msave_path\u001b[0m\u001b[0;34m)\u001b[0m\u001b[0;34m\u001b[0m\u001b[0;34m\u001b[0m\u001b[0m\n\u001b[0m",
      "\u001b[0;31mNameError\u001b[0m: name 'PowerFiltration' is not defined"
     ]
    }
   ],
   "source": [
    "\"\"\" Filtration \"\"\"\n",
    "\n",
    "\" parameters\"\n",
    "tau_max=10              # int: maximum power of tau - filtration from 0 ≤ tau ≤ tau_max\n",
    "weight_threshold=0.035  # float: weight threshold for the filtration\n",
    "dist_threshold=1e-3     # float: two points which are closer than dist_threshold are merged if merge==True\n",
    "merge=False              # True or False: two points which are closer than dist_threshold are merged if merge==True\n",
    "max_dimension=2         # int: maximal dimension simplex\n",
    "plot_embedding='fix'    # 'fix' or 'var': Plot embedding of simplicial complex at fix t=0 or variable at different diffusion times\n",
    "show_fig_=True          # True or False: If True, show figures in Notebook\n",
    "save_fig_=True          # True or False: If True, save figures under save_path\n",
    "save_path='results/plots'  #/simplicial_complex' \n",
    "\n",
    "betti_tensor, simplices_tensor,BarCodes=PowerFiltration.compute_filtration(weight_threshold,dist_threshold,tau_max, max_dimension,plot_embedding,merge,show_fig=show_fig_,save_fig=save_fig_,save_path=save_path)\n"
   ]
  },
  {
   "cell_type": "code",
   "execution_count": 1,
   "id": "d83e4b43",
   "metadata": {},
   "outputs": [
    {
     "ename": "NameError",
     "evalue": "name 'PowerFiltration' is not defined",
     "output_type": "error",
     "traceback": [
      "\u001b[0;31m---------------------------------------------------------------------------\u001b[0m",
      "\u001b[0;31mNameError\u001b[0m                                 Traceback (most recent call last)",
      "\u001b[0;32m/tmp/ipykernel_26759/933210864.py\u001b[0m in \u001b[0;36m<module>\u001b[0;34m\u001b[0m\n\u001b[1;32m      1\u001b[0m \u001b[0msave_path\u001b[0m\u001b[0;34m=\u001b[0m\u001b[0;34m'results/plots'\u001b[0m\u001b[0;34m\u001b[0m\u001b[0;34m\u001b[0m\u001b[0m\n\u001b[1;32m      2\u001b[0m \u001b[0;34m\u001b[0m\u001b[0m\n\u001b[0;32m----> 3\u001b[0;31m \u001b[0mPowerFiltration\u001b[0m\u001b[0;34m.\u001b[0m\u001b[0mplot_betti\u001b[0m\u001b[0;34m(\u001b[0m\u001b[0mbetti_tensor\u001b[0m\u001b[0;34m,\u001b[0m\u001b[0mmerge\u001b[0m\u001b[0;34m,\u001b[0m\u001b[0mweight_threshold\u001b[0m\u001b[0;34m,\u001b[0m\u001b[0mdist_threshold\u001b[0m\u001b[0;34m,\u001b[0m\u001b[0mscale\u001b[0m\u001b[0;34m=\u001b[0m\u001b[0;34m'linear'\u001b[0m\u001b[0;34m,\u001b[0m\u001b[0mshow_fig\u001b[0m\u001b[0;34m=\u001b[0m\u001b[0;32mTrue\u001b[0m\u001b[0;34m,\u001b[0m\u001b[0msave_fig\u001b[0m\u001b[0;34m=\u001b[0m\u001b[0;32mTrue\u001b[0m\u001b[0;34m,\u001b[0m\u001b[0msave_path\u001b[0m\u001b[0;34m=\u001b[0m\u001b[0msave_path\u001b[0m\u001b[0;34m)\u001b[0m\u001b[0;34m\u001b[0m\u001b[0;34m\u001b[0m\u001b[0m\n\u001b[0m",
      "\u001b[0;31mNameError\u001b[0m: name 'PowerFiltration' is not defined"
     ]
    }
   ],
   "source": [
    "save_path='results/plots'\n",
    "\n",
    "PowerFiltration.plot_betti(betti_tensor,merge,weight_threshold,dist_threshold,scale='linear',show_fig=True,save_fig=True,save_path=save_path)"
   ]
  },
  {
   "cell_type": "code",
   "execution_count": null,
   "id": "b9f1e489",
   "metadata": {},
   "outputs": [],
   "source": [
    "save_path='results/plots'\n",
    "\n",
    "PowerFiltration.plot_num_simplices(simplices_tensor,merge,weight_threshold,dist_threshold,scale='linear',show_fig=True,save_fig=True,save_path=save_path)"
   ]
  },
  {
   "cell_type": "code",
   "execution_count": null,
   "id": "05c4f062",
   "metadata": {},
   "outputs": [],
   "source": [
    "save_path='results/plots'\n",
    "\n",
    "persistence(BarCodes,experiment_name,e,b,t,kernel,mode,version,merge,dist_threshold,weight_threshold,save_path,save=True)"
   ]
  },
  {
   "cell_type": "markdown",
   "id": "6ae0fcd7",
   "metadata": {},
   "source": [
    "# Bifiltration"
   ]
  },
  {
   "cell_type": "code",
   "execution_count": null,
   "id": "62d79c44",
   "metadata": {
    "scrolled": true
   },
   "outputs": [],
   "source": [
    "\"\"\" Bifiltration over tau and weight threshold \"\"\"\n",
    "\n",
    "\" parameters\"\n",
    "weight_threshold_steps=np.array([0.05,0.045,0.04,0.035,0.03,0.025,0.02,0.015]) # list of float: filtration steps over weight  weight_threshold_steps=np.array([0.07,0.0675,0.065,0.0625,0.06,0.0575,0.055,0.0525,0.05,0.0475 ,0.045,0.0425,0.04,0.0375,0.035,0.0325,0.03,0.0275,0.025,0.0225,0.02,0.0175,0.015,0.0125,0.01,0.0075])  #\n",
    "tau_max=20              # int: filtration steps over tau - filtration from 0 ≤ tau ≤ tau_max\n",
    "dist_threshold=1e-3     # float: two points which are closer than dist_threshold are merged if merge==True\n",
    "merge=True              # True or False: two points which are closer than dist_threshold are merged if merge==True\n",
    "max_dimension=2         # int: maximal dimension simplex\n",
    "plot_embedding='var'    # 'fix' or 'var': Plot embedding of simplicial complex at fix t=0 or variable at different diffusion times\n",
    "show_fig_=False          # True or False: If True, show figures in Notebook\n",
    "save_fig_=False          # True or False: If True, save figures under save_path\n",
    "save_path='results/plots'  #/simplicial_complex' \n",
    "\n",
    "\n",
    "\n",
    "betti_tensor_filtration=np.zeros((len(weight_threshold_steps),tau_max,3))\n",
    "simplices_tensor_filtration=np.zeros((len(weight_threshold_steps),tau_max,3))\n",
    "BarCodes_tensor=[]\n",
    "for z in range(0,len(weight_threshold_steps)):\n",
    "    weight_threshold=weight_threshold_steps[z]\n",
    "    print(weight_threshold)\n",
    "    betti_tensor, simplices_tensor,BarCodes=PowerFiltration.compute_filtration(weight_threshold,dist_threshold,tau_max, max_dimension,plot_embedding,merge,show_fig=show_fig_,save_fig=save_fig_,save_path=save_path)\n",
    "    simplices_tensor_filtration[z]=simplices_tensor\n",
    "    betti_tensor_filtration[z]=betti_tensor\n",
    "    BarCodes_tensor.append(BarCodes)\n",
    "    print()"
   ]
  },
  {
   "cell_type": "code",
   "execution_count": null,
   "id": "0a829277",
   "metadata": {
    "scrolled": false
   },
   "outputs": [],
   "source": [
    "w_min=np.min(weight_threshold_steps)\n",
    "w_max=np.max(weight_threshold_steps)\n",
    "\n",
    "save_path='results/plots'  #/simplicial_complex'\n",
    "save_fig=True\n",
    "\n",
    "bifiltration_plot_betti(betti_tensor_filtration,w_min,w_max,version,experiment_name,e,b,t,kernel,mode,weight_threshold_steps,merge,dist_threshold,save_fig,save_path)\n"
   ]
  },
  {
   "cell_type": "code",
   "execution_count": null,
   "id": "5c0413ea",
   "metadata": {},
   "outputs": [],
   "source": [
    "w_min=np.min(weight_threshold_steps)\n",
    "w_max=np.max(weight_threshold_steps)\n",
    "\n",
    "save_path='results/plots'\n",
    "\n",
    "bifiltration_plot_simplices(betti_tensor_filtration,w_min,w_max,version,experiment_name,e,b,t,kernel,mode,weight_threshold_steps,merge,dist_threshold,save_fig,save_path)"
   ]
  },
  {
   "cell_type": "code",
   "execution_count": null,
   "id": "e215ce7e",
   "metadata": {},
   "outputs": [],
   "source": [
    "save_path='results/plots'\n",
    "for u in range(0,len(BarCodes_tensor)):\n",
    "    print(r'$p_{max}=$',weight_threshold_steps[u])\n",
    "    BarCodes_=BarCodes_tensor[u]\n",
    "    persistence(BarCodes_,experiment_name,e,b,t,kernel,mode,version,merge,dist_threshold,weight_threshold,save_path,save=True)\n"
   ]
  },
  {
   "cell_type": "code",
   "execution_count": null,
   "id": "eb247558",
   "metadata": {},
   "outputs": [],
   "source": []
  }
 ],
 "metadata": {
  "kernelspec": {
   "display_name": "Python 3 (ipykernel)",
   "language": "python",
   "name": "python3"
  },
  "language_info": {
   "codemirror_mode": {
    "name": "ipython",
    "version": 3
   },
   "file_extension": ".py",
   "mimetype": "text/x-python",
   "name": "python",
   "nbconvert_exporter": "python",
   "pygments_lexer": "ipython3",
   "version": "3.9.7"
  }
 },
 "nbformat": 4,
 "nbformat_minor": 5
}
